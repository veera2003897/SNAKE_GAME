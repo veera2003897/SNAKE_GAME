{
 "cells": [
  {
   "cell_type": "code",
   "execution_count": null,
   "id": "59b2cf79-c0eb-4fd8-9228-a4439ad2c0e3",
   "metadata": {},
   "outputs": [],
   "source": [
    "!pip install pygame"
   ]
  },
  {
   "cell_type": "code",
   "execution_count": null,
   "id": "784b0d25-03b7-4bbd-88c6-7c9720ce57f6",
   "metadata": {},
   "outputs": [],
   "source": [
    "!pip  --version"
   ]
  },
  {
   "cell_type": "code",
   "execution_count": null,
   "id": "6b7f5e0f-d637-45e7-bbab-2e62d21ae940",
   "metadata": {},
   "outputs": [],
   "source": [
    "import pygame\n",
    "import random\n",
    "pygame.init()\n",
    "width,height=500,700\n",
    "game_screen=pygame.display.set_mode((width,height))\n",
    "pygame.display.set_caption(\"SNAKE GAME\")\n",
    "snake_x,snake_y=width/2,height/2\n",
    "change_x,change_y=0,0\n",
    "food_x,food_y=random.randrange(0,width) // 10*10,random.randrange(0,height) // 10*10\n",
    "clock=pygame.time.Clock()\n",
    "snake_body=[(snake_x,snake_y)]\n",
    "def display_snake_food():\n",
    "    global snake_x,snake_y,food_x,food_y\n",
    "    snake_x=(snake_x+change_x)%width\n",
    "    snake_y=(snake_y+change_y)%height\n",
    "    if((snake_x,snake_y) in snake_body[1:]):\n",
    "        pygame.quit()\n",
    "        quit()\n",
    "    snake_body.append((snake_x,snake_y))\n",
    "    if(food_x==snake_x and food_y==snake_y):\n",
    "        food_x,food_y=random.randrange(0,width) // 10*10,random.randrange(0,height) // 10*10\n",
    "    else:\n",
    "        del snake_body[0]\n",
    "    game_screen.fill((0,0,0))\n",
    "    pygame.draw.rect(game_screen,(2,255,2),[food_x,food_y,10,10])\n",
    "    for (x,y) in snake_body:\n",
    "        pygame.draw.rect(game_screen,(255,255,255),[x,y,10,10])\n",
    "    pygame.display.update()\n",
    "while True:\n",
    "    events=pygame.event.get()\n",
    "    for event in events:\n",
    "       if(event.type==pygame.QUIT):\n",
    "           pygame.QUIT\n",
    "           quit()\n",
    "       if(event.type==pygame.KEYDOWN):\n",
    "           if(event.key==pygame.K_LEFT):\n",
    "               change_x=-10\n",
    "               change_y=0\n",
    "           elif(event.key==pygame.K_RIGHT):\n",
    "               change_x=10\n",
    "               change_y=0\n",
    "           elif(event.key==pygame.K_DOWN):\n",
    "               change_x=0\n",
    "               change_y=10\n",
    "           elif(event.key==pygame.K_UP): \n",
    "               change_x=0\n",
    "               change_y=-10\n",
    "            \n",
    "    display_snake_food()\n",
    "    clock.tick(10)"
   ]
  },
  {
   "cell_type": "code",
   "execution_count": null,
   "id": "547ee7e3-e931-4ab4-b9c6-8c6c9431b642",
   "metadata": {},
   "outputs": [],
   "source": []
  },
  {
   "cell_type": "code",
   "execution_count": null,
   "id": "63781087-435d-4ef6-b96f-2603dafa3b4b",
   "metadata": {},
   "outputs": [],
   "source": []
  }
 ],
 "metadata": {
  "kernelspec": {
   "display_name": "Python 3 (ipykernel)",
   "language": "python",
   "name": "python3"
  },
  "language_info": {
   "codemirror_mode": {
    "name": "ipython",
    "version": 3
   },
   "file_extension": ".py",
   "mimetype": "text/x-python",
   "name": "python",
   "nbconvert_exporter": "python",
   "pygments_lexer": "ipython3",
   "version": "3.12.4"
  }
 },
 "nbformat": 4,
 "nbformat_minor": 5
}
